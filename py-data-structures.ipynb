{
 "cells": [
  {
   "cell_type": "markdown",
   "id": "a3178fe5",
   "metadata": {},
   "source": [
    "## Make and index some data in Python\n",
    "\n",
    "Creating vectors, and a dataframe, and some low key indexing "
   ]
  },
  {
   "cell_type": "code",
   "execution_count": 1,
   "id": "b58e0fce",
   "metadata": {},
   "outputs": [],
   "source": [
    "import numpy as np\n",
    "import pandas as pd"
   ]
  },
  {
   "cell_type": "code",
   "execution_count": 6,
   "id": "37ec7237",
   "metadata": {},
   "outputs": [
    {
     "data": {
      "text/plain": [
       "[1, 2, 8, 10, 20, 1000]"
      ]
     },
     "execution_count": 6,
     "metadata": {},
     "output_type": "execute_result"
    }
   ],
   "source": [
    "teddy = [1, 2, 8]\n",
    "type(teddy)\n",
    "\n",
    "khora = [10, 20, 1000]\n",
    "type(khora)\n",
    "\n",
    "teddy + khora"
   ]
  },
  {
   "cell_type": "code",
   "execution_count": 10,
   "id": "51cdad7e",
   "metadata": {},
   "outputs": [
    {
     "data": {
      "text/plain": [
       "array([1, 2, 8])"
      ]
     },
     "execution_count": 10,
     "metadata": {},
     "output_type": "execute_result"
    }
   ],
   "source": [
    "teddy_vec = np.array(teddy)\n",
    "type(teddy_vec)\n",
    "\n",
    "teddy_vec"
   ]
  },
  {
   "cell_type": "code",
   "execution_count": 11,
   "id": "203c6dd0",
   "metadata": {},
   "outputs": [
    {
     "data": {
      "text/plain": [
       "2"
      ]
     },
     "execution_count": 11,
     "metadata": {},
     "output_type": "execute_result"
    }
   ],
   "source": [
    "teddy[1]"
   ]
  },
  {
   "cell_type": "code",
   "execution_count": 12,
   "id": "e1023940",
   "metadata": {},
   "outputs": [],
   "source": [
    "teddy[1] = 5000"
   ]
  },
  {
   "cell_type": "code",
   "execution_count": 13,
   "id": "e0c22bd9",
   "metadata": {},
   "outputs": [
    {
     "data": {
      "text/plain": [
       "[1, 5000, 8]"
      ]
     },
     "execution_count": 13,
     "metadata": {},
     "output_type": "execute_result"
    }
   ],
   "source": [
    "teddy"
   ]
  },
  {
   "cell_type": "code",
   "execution_count": 16,
   "id": "6b0bd0a8",
   "metadata": {},
   "outputs": [
    {
     "ename": "TypeError",
     "evalue": "'list' object is not callable",
     "output_type": "error",
     "traceback": [
      "\u001b[0;31m---------------------------------------------------------------------------\u001b[0m",
      "\u001b[0;31mTypeError\u001b[0m                                 Traceback (most recent call last)",
      "\u001b[0;32m<ipython-input-16-f4a0b7d277ba>\u001b[0m in \u001b[0;36m<module>\u001b[0;34m\u001b[0m\n\u001b[0;32m----> 1\u001b[0;31m \u001b[0mteddy\u001b[0m\u001b[0;34m(\u001b[0m\u001b[0;36m1\u001b[0m\u001b[0;34m)\u001b[0m\u001b[0;34m\u001b[0m\u001b[0;34m\u001b[0m\u001b[0m\n\u001b[0m",
      "\u001b[0;31mTypeError\u001b[0m: 'list' object is not callable"
     ]
    }
   ],
   "source": [
    "yarn = (1, 2, 3, 4)"
   ]
  },
  {
   "cell_type": "code",
   "execution_count": 17,
   "id": "6357782a",
   "metadata": {},
   "outputs": [
    {
     "ename": "TypeError",
     "evalue": "'tuple' object does not support item assignment",
     "output_type": "error",
     "traceback": [
      "\u001b[0;31m---------------------------------------------------------------------------\u001b[0m",
      "\u001b[0;31mTypeError\u001b[0m                                 Traceback (most recent call last)",
      "\u001b[0;32m<ipython-input-17-d7a3e4919cb2>\u001b[0m in \u001b[0;36m<module>\u001b[0;34m\u001b[0m\n\u001b[0;32m----> 1\u001b[0;31m \u001b[0myarn\u001b[0m\u001b[0;34m[\u001b[0m\u001b[0;36m2\u001b[0m\u001b[0;34m]\u001b[0m \u001b[0;34m=\u001b[0m \u001b[0;36m100\u001b[0m\u001b[0;34m\u001b[0m\u001b[0;34m\u001b[0m\u001b[0m\n\u001b[0m",
      "\u001b[0;31mTypeError\u001b[0m: 'tuple' object does not support item assignment"
     ]
    }
   ],
   "source": [
    "yarn[2] = 100"
   ]
  },
  {
   "cell_type": "markdown",
   "id": "5c41b9fe",
   "metadata": {},
   "source": [
    "Can't reassign a value in a tuple! \n"
   ]
  },
  {
   "cell_type": "code",
   "execution_count": 25,
   "id": "f3917725",
   "metadata": {},
   "outputs": [],
   "source": [
    "waffle = [2.9, \"a burrito\", [0, 1, 15], False]"
   ]
  },
  {
   "cell_type": "code",
   "execution_count": 26,
   "id": "626313a9",
   "metadata": {},
   "outputs": [
    {
     "data": {
      "text/plain": [
       "[2.9, 'a burrito', [0, 1, 15], False]"
      ]
     },
     "execution_count": 26,
     "metadata": {},
     "output_type": "execute_result"
    }
   ],
   "source": [
    "waffle"
   ]
  },
  {
   "cell_type": "code",
   "execution_count": 27,
   "id": "446bb1be",
   "metadata": {},
   "outputs": [
    {
     "data": {
      "text/plain": [
       "[0, 1, 15]"
      ]
     },
     "execution_count": 27,
     "metadata": {},
     "output_type": "execute_result"
    }
   ],
   "source": [
    "waffle[2]"
   ]
  },
  {
   "cell_type": "code",
   "execution_count": 28,
   "id": "3e73551d",
   "metadata": {},
   "outputs": [
    {
     "data": {
      "text/plain": [
       "float"
      ]
     },
     "execution_count": 28,
     "metadata": {},
     "output_type": "execute_result"
    }
   ],
   "source": [
    "type(waffle[0])"
   ]
  },
  {
   "cell_type": "code",
   "execution_count": 29,
   "id": "3a4dba5e",
   "metadata": {},
   "outputs": [],
   "source": [
    "waffle[0] = \"It's Tuesday\""
   ]
  },
  {
   "cell_type": "code",
   "execution_count": 30,
   "id": "ebdc41b2",
   "metadata": {},
   "outputs": [
    {
     "data": {
      "text/plain": [
       "[\"It's Tuesday\", 'a burrito', [0, 1, 15], False]"
      ]
     },
     "execution_count": 30,
     "metadata": {},
     "output_type": "execute_result"
    }
   ],
   "source": [
    "waffle"
   ]
  },
  {
   "cell_type": "code",
   "execution_count": 31,
   "id": "f27d2f61",
   "metadata": {},
   "outputs": [],
   "source": [
    "cows = {'name': [\"moo\", \"spots\", \"happy\"], 'location': [\"pasture\", \"prairie\", \"barn\"]}"
   ]
  },
  {
   "cell_type": "code",
   "execution_count": 32,
   "id": "b1a69fbf",
   "metadata": {},
   "outputs": [
    {
     "data": {
      "text/plain": [
       "{'name': ['moo', 'spots', 'happy'], 'location': ['pasture', 'prairie', 'barn']}"
      ]
     },
     "execution_count": 32,
     "metadata": {},
     "output_type": "execute_result"
    }
   ],
   "source": [
    "cows"
   ]
  },
  {
   "cell_type": "code",
   "execution_count": 33,
   "id": "c5a65b0a",
   "metadata": {},
   "outputs": [],
   "source": [
    "cows_df = pd.DataFrame(cows)"
   ]
  },
  {
   "cell_type": "code",
   "execution_count": 34,
   "id": "a6a78095",
   "metadata": {},
   "outputs": [
    {
     "data": {
      "text/html": [
       "<div>\n",
       "<style scoped>\n",
       "    .dataframe tbody tr th:only-of-type {\n",
       "        vertical-align: middle;\n",
       "    }\n",
       "\n",
       "    .dataframe tbody tr th {\n",
       "        vertical-align: top;\n",
       "    }\n",
       "\n",
       "    .dataframe thead th {\n",
       "        text-align: right;\n",
       "    }\n",
       "</style>\n",
       "<table border=\"1\" class=\"dataframe\">\n",
       "  <thead>\n",
       "    <tr style=\"text-align: right;\">\n",
       "      <th></th>\n",
       "      <th>name</th>\n",
       "      <th>location</th>\n",
       "    </tr>\n",
       "  </thead>\n",
       "  <tbody>\n",
       "    <tr>\n",
       "      <th>0</th>\n",
       "      <td>moo</td>\n",
       "      <td>pasture</td>\n",
       "    </tr>\n",
       "    <tr>\n",
       "      <th>1</th>\n",
       "      <td>spots</td>\n",
       "      <td>prairie</td>\n",
       "    </tr>\n",
       "    <tr>\n",
       "      <th>2</th>\n",
       "      <td>happy</td>\n",
       "      <td>barn</td>\n",
       "    </tr>\n",
       "  </tbody>\n",
       "</table>\n",
       "</div>"
      ],
      "text/plain": [
       "    name location\n",
       "0    moo  pasture\n",
       "1  spots  prairie\n",
       "2  happy     barn"
      ]
     },
     "execution_count": 34,
     "metadata": {},
     "output_type": "execute_result"
    }
   ],
   "source": [
    "cows_df"
   ]
  },
  {
   "cell_type": "code",
   "execution_count": 49,
   "id": "b3f98403",
   "metadata": {},
   "outputs": [],
   "source": [
    "cows_noname = [['moo', 'spots', 'happy'], ['pasture', 'prairie', 'barn']]"
   ]
  },
  {
   "cell_type": "code",
   "execution_count": 50,
   "id": "88c91f5d",
   "metadata": {},
   "outputs": [],
   "source": [
    "cows_df_noname = pd.DataFrame(cows_noname)"
   ]
  },
  {
   "cell_type": "code",
   "execution_count": 51,
   "id": "cd322830",
   "metadata": {},
   "outputs": [
    {
     "data": {
      "text/html": [
       "<div>\n",
       "<style scoped>\n",
       "    .dataframe tbody tr th:only-of-type {\n",
       "        vertical-align: middle;\n",
       "    }\n",
       "\n",
       "    .dataframe tbody tr th {\n",
       "        vertical-align: top;\n",
       "    }\n",
       "\n",
       "    .dataframe thead th {\n",
       "        text-align: right;\n",
       "    }\n",
       "</style>\n",
       "<table border=\"1\" class=\"dataframe\">\n",
       "  <thead>\n",
       "    <tr style=\"text-align: right;\">\n",
       "      <th></th>\n",
       "      <th>0</th>\n",
       "      <th>1</th>\n",
       "      <th>2</th>\n",
       "    </tr>\n",
       "  </thead>\n",
       "  <tbody>\n",
       "    <tr>\n",
       "      <th>0</th>\n",
       "      <td>moo</td>\n",
       "      <td>spots</td>\n",
       "      <td>happy</td>\n",
       "    </tr>\n",
       "    <tr>\n",
       "      <th>1</th>\n",
       "      <td>pasture</td>\n",
       "      <td>prairie</td>\n",
       "      <td>barn</td>\n",
       "    </tr>\n",
       "  </tbody>\n",
       "</table>\n",
       "</div>"
      ],
      "text/plain": [
       "         0        1      2\n",
       "0      moo    spots  happy\n",
       "1  pasture  prairie   barn"
      ]
     },
     "execution_count": 51,
     "metadata": {},
     "output_type": "execute_result"
    }
   ],
   "source": [
    "cows_df_noname"
   ]
  },
  {
   "cell_type": "code",
   "execution_count": null,
   "id": "e7ae3676",
   "metadata": {},
   "outputs": [],
   "source": []
  }
 ],
 "metadata": {
  "kernelspec": {
   "display_name": "Python 3",
   "language": "python",
   "name": "python3"
  },
  "language_info": {
   "codemirror_mode": {
    "name": "ipython",
    "version": 3
   },
   "file_extension": ".py",
   "mimetype": "text/x-python",
   "name": "python",
   "nbconvert_exporter": "python",
   "pygments_lexer": "ipython3",
   "version": "3.8.8"
  }
 },
 "nbformat": 4,
 "nbformat_minor": 5
}
